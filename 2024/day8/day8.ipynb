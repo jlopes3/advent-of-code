{
 "cells": [
  {
   "cell_type": "markdown",
   "metadata": {
    "vscode": {
     "languageId": "plaintext"
    }
   },
   "source": [
    "## Part 1"
   ]
  },
  {
   "cell_type": "code",
   "execution_count": 49,
   "metadata": {},
   "outputs": [
    {
     "name": "stdout",
     "output_type": "stream",
     "text": [
      "327\n"
     ]
    }
   ],
   "source": [
    "import math\n",
    "lines: list[str] = []\n",
    "with open(\"input_day8.txt\", \"r\") as file:\n",
    "    line: str = file.readline()\n",
    "    while line:\n",
    "        lines.append(line.strip())\n",
    "        line = file.readline()\n",
    "\n",
    "height: int = len(lines)\n",
    "width: int = len(lines[0])\n",
    "node_dict: dict[str, list[tuple[int, int]]] = {}\n",
    "for i in range(height):\n",
    "    for j in range(width):\n",
    "        if lines[i][j].isalnum():\n",
    "            node_letter: str = lines[i][j] \n",
    "            if node_letter not in node_dict.keys(): node_dict[node_letter] = [(i, j)]\n",
    "            else: node_dict[node_letter] = node_dict[node_letter] + [(i, j)]\n",
    "\n",
    "antinodes: set[tuple[int, int]] = set()\n",
    "for locations in node_dict.values():\n",
    "    for i in range(len(locations)):\n",
    "        for j in range(i + 1, len(locations)):\n",
    "            gcd = math.gcd(locations[i][0] - locations[j][0], locations[i][1] - locations[j][1])\n",
    "            slope: tuple[int, int] = (locations[i][0] - locations[j][0]) // gcd, (locations[i][1] - locations[j][1]) // gcd\n",
    "            dir_1: tuple[int, int] = locations[i][0] + slope[0], locations[i][1] + slope[1]\n",
    "            dir_2: tuple[int, int] = locations[i][0] - slope[0], locations[i][1] - slope[1]\n",
    "            while ((0 <= dir_1[0] < height) and (0 <= dir_1[1] < width)) or ((0 <= dir_2[0] < height) and (0 <= dir_2[1] < width)):\n",
    "                if ((0 <= dir_1[0] < height) and (0 <= dir_1[1] < width)):\n",
    "                    if dir_1 not in antinodes:\n",
    "                        if abs(dir_1[0] - locations[i][0]) == 2 * abs(dir_1[0] - locations[j][0]) or abs(dir_1[0] - locations[i][0]) * 2 == abs(dir_1[0] - locations[j][0]):\n",
    "                            antinodes.add(dir_1)\n",
    "                if ((0 <= dir_2[0] < height) and (0 <= dir_2[1] < width)):\n",
    "                    if dir_2 not in antinodes:\n",
    "                        if abs(dir_2[0] - locations[i][0]) == (2 * abs(dir_2[0] - locations[j][0])) or (abs(dir_2[0] - locations[i][0]) * 2) == abs(dir_2[0] - locations[j][0]):\n",
    "                            antinodes.add(dir_2)\n",
    "                dir_1 = dir_1[0] + slope[0], dir_1[1] + slope[1]\n",
    "                dir_2 = dir_2[0] - slope[0], dir_2[1] - slope[1]\n",
    "\n",
    "\n",
    "print(len(antinodes))"
   ]
  },
  {
   "cell_type": "markdown",
   "metadata": {},
   "source": [
    "## Part 2"
   ]
  },
  {
   "cell_type": "code",
   "execution_count": 50,
   "metadata": {},
   "outputs": [
    {
     "name": "stdout",
     "output_type": "stream",
     "text": [
      "1233\n"
     ]
    }
   ],
   "source": [
    "import math\n",
    "lines: list[str] = []\n",
    "with open(\"input_day8.txt\", \"r\") as file:\n",
    "    line: str = file.readline()\n",
    "    while line:\n",
    "        lines.append(line.strip())\n",
    "        line = file.readline()\n",
    "\n",
    "height: int = len(lines)\n",
    "width: int = len(lines[0])\n",
    "node_dict: dict[str, list[tuple[int, int]]] = {}\n",
    "for i in range(height):\n",
    "    for j in range(width):\n",
    "        if lines[i][j].isalnum():\n",
    "            node_letter: str = lines[i][j] \n",
    "            if node_letter not in node_dict.keys(): node_dict[node_letter] = [(i, j)]\n",
    "            else: node_dict[node_letter] = node_dict[node_letter] + [(i, j)]\n",
    "\n",
    "antinodes: set[tuple[int, int]] = set()\n",
    "for locations in node_dict.values():\n",
    "    for i in range(len(locations)):\n",
    "        for j in range(i + 1, len(locations)):\n",
    "            gcd = math.gcd(locations[i][0] - locations[j][0], locations[i][1] - locations[j][1])\n",
    "            slope: tuple[int, int] = (locations[i][0] - locations[j][0]) // gcd, (locations[i][1] - locations[j][1]) // gcd\n",
    "            dir_1: tuple[int, int] = locations[i][0], locations[i][1]\n",
    "            dir_2: tuple[int, int] = locations[i][0], locations[i][1]\n",
    "            while ((0 <= dir_1[0] < height) and (0 <= dir_1[1] < width)) or ((0 <= dir_2[0] < height) and (0 <= dir_2[1] < width)):\n",
    "                if ((0 <= dir_1[0] < height) and (0 <= dir_1[1] < width)):\n",
    "                    if dir_1 not in antinodes:\n",
    "                        antinodes.add(dir_1)\n",
    "                if ((0 <= dir_2[0] < height) and (0 <= dir_2[1] < width)):\n",
    "                    if dir_2 not in antinodes:\n",
    "                        antinodes.add(dir_2)\n",
    "                dir_1 = dir_1[0] + slope[0], dir_1[1] + slope[1]\n",
    "                dir_2 = dir_2[0] - slope[0], dir_2[1] - slope[1]\n",
    "\n",
    "\n",
    "print(len(antinodes))"
   ]
  }
 ],
 "metadata": {
  "kernelspec": {
   "display_name": "Python 3",
   "language": "python",
   "name": "python3"
  },
  "language_info": {
   "codemirror_mode": {
    "name": "ipython",
    "version": 3
   },
   "file_extension": ".py",
   "mimetype": "text/x-python",
   "name": "python",
   "nbconvert_exporter": "python",
   "pygments_lexer": "ipython3",
   "version": "3.9.6"
  }
 },
 "nbformat": 4,
 "nbformat_minor": 2
}
