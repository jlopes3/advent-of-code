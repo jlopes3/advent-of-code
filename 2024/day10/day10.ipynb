{
 "cells": [
  {
   "cell_type": "markdown",
   "metadata": {},
   "source": [
    "## Part 1"
   ]
  },
  {
   "cell_type": "code",
   "execution_count": 48,
   "metadata": {},
   "outputs": [
    {
     "name": "stdout",
     "output_type": "stream",
     "text": [
      "782\n"
     ]
    }
   ],
   "source": [
    "lines: list[str] = []\n",
    "with open(\"input_day10.txt\", \"r\") as file:\n",
    "    line: str = file.readline()\n",
    "    while line:\n",
    "        lines.append(line.strip())\n",
    "        line = file.readline()\n",
    "\n",
    "height: int = len(lines)\n",
    "width: int = len(lines[0])\n",
    "graph: dict[tuple[int, int], list[tuple[int, int]]] = {}\n",
    "zeroes: list[tuple[int, int]] = []\n",
    "for i in range(height):\n",
    "    for j in range(width):\n",
    "        number: int = int(lines[i][j])\n",
    "        if number == 0:\n",
    "            zeroes += [(i, j)]\n",
    "        to_add = []\n",
    "        for i_dif, j_dif in [(-1, 0), (1, 0), (0, -1), (0, 1)]:\n",
    "            i_new: int = i + i_dif\n",
    "            j_new: int = j + j_dif\n",
    "            if 0 <= i_new < height and 0 <= j_new < width:\n",
    "                new_number: int = int(lines[i_new][j_new]) \n",
    "                if new_number == number + 1:\n",
    "                    to_add += [(i_new, j_new)]\n",
    "        graph[(i, j)] = to_add\n",
    "\n",
    "def possible_nines(locations, curr_level, graph):\n",
    "    next_level = set()\n",
    "    for i, j in locations:\n",
    "        for next_loc in graph[(i, j)]:\n",
    "            next_level.add(next_loc)\n",
    "    if curr_level != 8:\n",
    "        return possible_nines(next_level, curr_level + 1, graph)\n",
    "    return next_level\n",
    "graph[(-1, -1)] = zeroes\n",
    "\n",
    "sum: int = 0\n",
    "for el in zeroes:\n",
    "    sum += len(possible_nines([el], 0, graph))\n",
    "    \n",
    "print(sum)"
   ]
  },
  {
   "cell_type": "markdown",
   "metadata": {},
   "source": [
    "## Part 2"
   ]
  },
  {
   "cell_type": "code",
   "execution_count": 51,
   "metadata": {},
   "outputs": [
    {
     "name": "stdout",
     "output_type": "stream",
     "text": [
      "1694\n"
     ]
    }
   ],
   "source": [
    "lines: list[str] = []\n",
    "with open(\"input_day10.txt\", \"r\") as file:\n",
    "    line: str = file.readline()\n",
    "    while line:\n",
    "        lines.append(line.strip())\n",
    "        line = file.readline()\n",
    "\n",
    "height: int = len(lines)\n",
    "width: int = len(lines[0])\n",
    "graph: dict[tuple[int, int], list[tuple[int, int]]] = {}\n",
    "zeroes: list[tuple[int, int]] = []\n",
    "for i in range(height):\n",
    "    for j in range(width):\n",
    "        number: int = int(lines[i][j])\n",
    "        if number == 0:\n",
    "            zeroes += [(i, j)]\n",
    "        to_add = []\n",
    "        for i_dif, j_dif in [(-1, 0), (1, 0), (0, -1), (0, 1)]:\n",
    "            i_new: int = i + i_dif\n",
    "            j_new: int = j + j_dif\n",
    "            if 0 <= i_new < height and 0 <= j_new < width:\n",
    "                new_number: int = int(lines[i_new][j_new]) \n",
    "                if new_number == number + 1:\n",
    "                    to_add += [(i_new, j_new)]\n",
    "        graph[(i, j)] = to_add\n",
    "\n",
    "def possible_nines(locations, curr_level, graph):\n",
    "    next_level = []\n",
    "    for i, j in locations:\n",
    "        for next_loc in graph[(i, j)]:\n",
    "            next_level += [(next_loc)]\n",
    "    if curr_level != 8:\n",
    "        return possible_nines(next_level, curr_level + 1, graph)\n",
    "    return next_level\n",
    "graph[(-1, -1)] = zeroes\n",
    "\n",
    "sum: int = 0\n",
    "for el in zeroes:\n",
    "    sum += len(possible_nines([el], 0, graph))\n",
    "    \n",
    "print(sum)"
   ]
  }
 ],
 "metadata": {
  "kernelspec": {
   "display_name": "Python 3",
   "language": "python",
   "name": "python3"
  },
  "language_info": {
   "codemirror_mode": {
    "name": "ipython",
    "version": 3
   },
   "file_extension": ".py",
   "mimetype": "text/x-python",
   "name": "python",
   "nbconvert_exporter": "python",
   "pygments_lexer": "ipython3",
   "version": "3.9.6"
  }
 },
 "nbformat": 4,
 "nbformat_minor": 2
}
