{
 "cells": [
  {
   "cell_type": "markdown",
   "metadata": {},
   "source": [
    "## Part 1"
   ]
  },
  {
   "cell_type": "code",
   "execution_count": 45,
   "metadata": {},
   "outputs": [
    {
     "name": "stdout",
     "output_type": "stream",
     "text": [
      "2718\n"
     ]
    }
   ],
   "source": [
    "puzzle: list[str] = []\n",
    "with open(\"input_day4.txt\", \"r\") as file:\n",
    "    line: str = file.readline()\n",
    "    while line:\n",
    "        puzzle.append(line.strip())\n",
    "        line = file.readline()\n",
    "\n",
    "\n",
    "def search_for_xmas(i: int, j: int, puzzle: list[str]) -> int:\n",
    "    width: int = len(puzzle)\n",
    "    height: int = len(puzzle[0])\n",
    "    found: int = 0\n",
    "    moves: list[tuple[int, int]] = [(-1, -1), (-1, 0), (-1, 1), (0, -1), (0, 1), (1, -1), (1, 0), (1, 1)]\n",
    "    for left_inc, right_inc in moves:\n",
    "        x , y  = left_inc, right_inc\n",
    "        if (i + x >= 0 and i + x < width) and (j + y >= 0 and j + y < height) and puzzle[i + x][j + y] == \"M\":\n",
    "            x += left_inc\n",
    "            y += right_inc\n",
    "            if (i + x >= 0 and i + x < width) and (j + y >= 0 and j + y < height) and puzzle[i + x][j + y] == \"A\":\n",
    "                x += left_inc\n",
    "                y += right_inc\n",
    "                if (i + x >= 0 and i + x < width) and (j + y >= 0 and j + y < height) and puzzle[i + x][j + y] == \"S\":\n",
    "                    found += 1\n",
    "            \n",
    "    return found\n",
    "\n",
    "width: int = len(puzzle)\n",
    "height: int = len(puzzle[0])\n",
    "\n",
    "found: int = 0\n",
    "for i in range(width):\n",
    "    for j in range(height):\n",
    "        if puzzle[i][j] == \"X\":\n",
    "            found += search_for_xmas(i, j, puzzle)\n",
    "\n",
    "print(found)\n",
    "\n",
    "    \n",
    "            "
   ]
  },
  {
   "cell_type": "markdown",
   "metadata": {},
   "source": [
    "## Part 2"
   ]
  },
  {
   "cell_type": "code",
   "execution_count": 63,
   "metadata": {},
   "outputs": [
    {
     "name": "stdout",
     "output_type": "stream",
     "text": [
      "2046\n"
     ]
    }
   ],
   "source": [
    "puzzle: list[str] = []\n",
    "with open(\"input_day4.txt\", \"r\") as file:\n",
    "    line: str = file.readline()\n",
    "    while line:\n",
    "        puzzle.append(line.strip())\n",
    "        line = file.readline()\n",
    "\n",
    "\n",
    "def search_for_x_mas(i: int, j: int, puzzle: list[str]) -> int:\n",
    "    pattern1: list[tuple[int, int, str]] = [(-1, -1, \"M\"), (-1, 1, \"M\"), (1, 1, \"S\"), (1, -1, \"S\")]\n",
    "    pattern2: list[tuple[int, int, str]] = [(-1, -1, \"S\"), (-1, 1, \"M\"), (1, 1, \"M\"), (1, -1, \"S\")]\n",
    "    pattern3: list[tuple[int, int, str]] = [(-1, -1, \"S\"), (-1, 1, \"S\"), (1, 1, \"M\"), (1, -1, \"M\")]\n",
    "    pattern4: list[tuple[int, int, str]] = [(-1, -1, \"M\"), (-1, 1, \"S\"), (1, 1, \"S\"), (1, -1, \"M\")]\n",
    "    patterns: list[list[tuple[int, int, str]]] = [pattern1, pattern2, pattern3, pattern4]\n",
    "    \n",
    "    found: bool = True\n",
    "    for pattern in patterns:\n",
    "        found: bool = True\n",
    "        for i_inc, j_inc, letter in pattern:\n",
    "            found = puzzle[i + i_inc][j + j_inc] == letter and found\n",
    "            if puzzle[i + i_inc][j + j_inc] != letter:\n",
    "                break\n",
    "        if found:\n",
    "            return 1\n",
    "               \n",
    "    return 0\n",
    "\n",
    "width: int = len(puzzle)\n",
    "height: int = len(puzzle[0])\n",
    "\n",
    "found: int = 0\n",
    "for i in range(1, width - 1):\n",
    "    for j in range(1, height - 1):\n",
    "        if puzzle[i][j] == \"A\":\n",
    "            found += search_for_x_mas(i, j, puzzle)\n",
    "\n",
    "print(found)           "
   ]
  }
 ],
 "metadata": {
  "kernelspec": {
   "display_name": "Python 3",
   "language": "python",
   "name": "python3"
  },
  "language_info": {
   "codemirror_mode": {
    "name": "ipython",
    "version": 3
   },
   "file_extension": ".py",
   "mimetype": "text/x-python",
   "name": "python",
   "nbconvert_exporter": "python",
   "pygments_lexer": "ipython3",
   "version": "3.9.6"
  }
 },
 "nbformat": 4,
 "nbformat_minor": 2
}
