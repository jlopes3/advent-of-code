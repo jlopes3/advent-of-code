{
 "cells": [
  {
   "cell_type": "markdown",
   "metadata": {},
   "source": [
    "## Part 1"
   ]
  },
  {
   "cell_type": "code",
   "execution_count": 16,
   "metadata": {},
   "outputs": [
    {
     "name": "stdout",
     "output_type": "stream",
     "text": [
      "183788984\n"
     ]
    }
   ],
   "source": [
    "import re\n",
    "\n",
    "with open(\"input_day3.txt\", \"r\", encoding=\"utf-8\") as file:\n",
    "    test_string = file.read()\n",
    "\n",
    "pattern: re.Pattern[str] = re.compile(r\"mul\\(\\d{1,3},\\d{1,3}\\)\")\n",
    "matches = pattern.findall(test_string)\n",
    "\n",
    "sum = 0\n",
    "for match in matches:\n",
    "    pattern: re.Pattern[str] = re.compile(r\"\\d{1,3},\\d{1,3}\")\n",
    "    matches_2 = pattern.findall(match)\n",
    "    for match2 in matches_2:\n",
    "        nums = match2.split(\",\")\n",
    "        nums = list(map(int, nums))\n",
    "        sum += (nums[0] * nums[1])\n",
    "    \n",
    "print(sum)\n"
   ]
  },
  {
   "cell_type": "markdown",
   "metadata": {},
   "source": [
    "## Part 2"
   ]
  },
  {
   "cell_type": "code",
   "execution_count": 25,
   "metadata": {},
   "outputs": [
    {
     "name": "stdout",
     "output_type": "stream",
     "text": [
      "62098619\n"
     ]
    }
   ],
   "source": [
    "from re import Match\n",
    "from typing import Iterator\n",
    "\n",
    "\n",
    "with open(\"input_day3.txt\", \"r\", encoding=\"utf-8\") as file:\n",
    "    test_string = file.read()\n",
    "\n",
    "pattern: re.Pattern[str] = re.compile(r\"mul\\(\\d{1,3},\\d{1,3}\\)\")\n",
    "matches = pattern.finditer(test_string)\n",
    "matches_list: list[tuple[int, str]] = []\n",
    "for match in matches:\n",
    "    matches_list.append((match.start(), match.group()))\n",
    "    \n",
    "pattern: re.Pattern[str] = re.compile(r\"do\\(\\)\")\n",
    "matches = pattern.finditer(test_string)\n",
    "for match in matches:\n",
    "    matches_list.append((match.start(), match.group()))\n",
    "    \n",
    "pattern: re.Pattern[str] = re.compile(r\"don't\\(\\)\")\n",
    "matches: Iterator[Match[str]] = pattern.finditer(test_string)\n",
    "for match in matches:\n",
    "    matches_list.append((match.start(), match.group()))\n",
    "\n",
    "matches_list.sort()\n",
    "\n",
    "do: bool = True\n",
    "sum: int = 0\n",
    "for _, el in matches_list:\n",
    "    if el[0] == \"m\" and do:\n",
    "        pattern: re.Pattern[str] = re.compile(r\"\\d{1,3},\\d{1,3}\")\n",
    "        matches_2 = pattern.findall(el)\n",
    "        for match2 in matches_2:\n",
    "            nums = match2.split(\",\")\n",
    "            nums = list(map(int, nums))\n",
    "            sum += (nums[0] * nums[1])\n",
    "    elif el == \"do()\":\n",
    "        do = True\n",
    "    elif el == \"don't()\":\n",
    "        do = False\n",
    "\n",
    "print(sum)\n",
    "        "
   ]
  }
 ],
 "metadata": {
  "kernelspec": {
   "display_name": "Python 3",
   "language": "python",
   "name": "python3"
  },
  "language_info": {
   "codemirror_mode": {
    "name": "ipython",
    "version": 3
   },
   "file_extension": ".py",
   "mimetype": "text/x-python",
   "name": "python",
   "nbconvert_exporter": "python",
   "pygments_lexer": "ipython3",
   "version": "3.9.6"
  }
 },
 "nbformat": 4,
 "nbformat_minor": 2
}
