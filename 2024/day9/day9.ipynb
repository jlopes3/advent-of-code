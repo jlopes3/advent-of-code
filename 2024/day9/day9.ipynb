{
 "cells": [
  {
   "cell_type": "markdown",
   "metadata": {
    "vscode": {
     "languageId": "plaintext"
    }
   },
   "source": [
    "## Part 1"
   ]
  },
  {
   "cell_type": "code",
   "execution_count": 1,
   "metadata": {},
   "outputs": [
    {
     "name": "stdout",
     "output_type": "stream",
     "text": [
      "6241633730082\n"
     ]
    }
   ],
   "source": [
    "from functools import reduce\n",
    "\n",
    "nput: str = \"\"\n",
    "with open(\"input_day9.txt\", \"r\") as file:\n",
    "    input: str = file.readline()\n",
    "\n",
    "file_dict: dict[str, int] = {}\n",
    "free_dict: dict[int, int] = {}\n",
    "for i in range(len(input)):\n",
    "    if i % 2 == 0:\n",
    "        file_dict[str(i // 2)] = int(input[i])\n",
    "    else:\n",
    "        free_dict[(i - 1) // 2] = int(input[i])\n",
    "\n",
    "comp_lst: list[list] = []        \n",
    "for key in file_dict.keys():\n",
    "    comp_lst += [[key] * (file_dict[key])]\n",
    "    if int(key) in free_dict.keys():\n",
    "        comp_lst += [[\".\"] * (free_dict[int(key)])]\n",
    "\n",
    "left: tuple[int, int] = (0, 0)\n",
    "right: tuple[int, int] = (len(comp_lst) - 1, len(comp_lst[-1]) - 1)\n",
    "while left[0] < right[0] or (left[0] == right[0] and left[1] < right[1]):\n",
    "    if len(comp_lst[left[0]]) == 0:\n",
    "        left = left[0] + 1, 0\n",
    "        continue\n",
    "    if comp_lst[left[0]][left[1]] != \".\":\n",
    "        if left[1] < len(comp_lst[left[0]]) - 1:\n",
    "            left = left[0], left[1] + 1\n",
    "        else:\n",
    "            left = left[0] + 1, 0\n",
    "        continue\n",
    "    if comp_lst[right[0]][right[1]] == \".\":\n",
    "        if right[1] == 0:\n",
    "            if len(comp_lst[right[0] - 1]) == 0:\n",
    "                right = right[0] - 2, len(comp_lst[right[0] - 2]) - 1\n",
    "            else:\n",
    "                right = right[0] - 1, len(comp_lst[right[0] - 1]) - 1\n",
    "        else:\n",
    "            right = right[0], right[1] - 1\n",
    "        continue\n",
    "    comp_lst[left[0]][left[1]], comp_lst[right[0]][right[1]] = comp_lst[right[0]][right[1]], comp_lst[left[0]][left[1]]\n",
    "\n",
    "\n",
    "combined_lst: list[str] = reduce(lambda x, y: x + y, comp_lst)\n",
    "checksum: int = 0\n",
    "for i in range(len(combined_lst)):\n",
    "    if combined_lst[i].isnumeric():\n",
    "        checksum += i * int(combined_lst[i])\n",
    "\n",
    "print(checksum)"
   ]
  },
  {
   "cell_type": "markdown",
   "metadata": {},
   "source": [
    "## Part 2"
   ]
  },
  {
   "cell_type": "code",
   "execution_count": 2,
   "metadata": {},
   "outputs": [
    {
     "name": "stdout",
     "output_type": "stream",
     "text": [
      "6265268809555\n"
     ]
    }
   ],
   "source": [
    "from functools import reduce\n",
    "\n",
    "nput: str = \"\"\n",
    "with open(\"input_day9.txt\", \"r\") as file:\n",
    "    input: str = file.readline()\n",
    "\n",
    "file_dict: dict[str, int] = {}\n",
    "free_dict: dict[int, int] = {}\n",
    "for i in range(len(input)):\n",
    "    if i % 2 == 0:\n",
    "        file_dict[str(i // 2)] = int(input[i])\n",
    "    else:\n",
    "        free_dict[(i - 1) // 2] = int(input[i])\n",
    "\n",
    "comp_lst: list[list[str]] = []        \n",
    "for key in file_dict.keys():\n",
    "    comp_lst += [[key] * (file_dict[key])]\n",
    "    if int(key) in free_dict.keys():\n",
    "        comp_lst += [[\".\"] * (free_dict[int(key)])]\n",
    "        \n",
    "\n",
    "left: int = 0\n",
    "right: int = len(comp_lst) - 1\n",
    "size_denied: int = 999999999999\n",
    "while right > 0:\n",
    "    if left >= right:\n",
    "        right -= 1\n",
    "        left = 0\n",
    "        continue\n",
    "    if len(comp_lst[left]) == 0 or comp_lst[left][0] != \".\":\n",
    "        left += 1\n",
    "        continue\n",
    "    if len(comp_lst[right]) == 0 or comp_lst[right][0] == \".\":\n",
    "        right -= 1\n",
    "        continue\n",
    "    if len(comp_lst[right]) < len(comp_lst[left]):\n",
    "        len_left: int = len(comp_lst[left])\n",
    "        len_right: int = len(comp_lst[right])\n",
    "        new_spaces: list[str] = [\".\"] * (len_left - len_right)\n",
    "        end_spaces: list[str] = [\".\"] * len_right\n",
    "        comp_lst = comp_lst[:left] + [comp_lst[right]] + [new_spaces] + comp_lst[left + 1: right] + [end_spaces] + comp_lst[right + 1:]\n",
    "        left = 0\n",
    "        continue\n",
    "    if len(comp_lst[right]) == len(comp_lst[left]):\n",
    "        comp_lst[left], comp_lst[right] = comp_lst[right], comp_lst[left]\n",
    "        right -= 1\n",
    "        left = 0\n",
    "        continue\n",
    "    if len(comp_lst[right]) > len(comp_lst[left]):\n",
    "        left += 1\n",
    "        continue\n",
    "        \n",
    "        \n",
    "combined_lst: list[str] = reduce(lambda x, y: x + y, comp_lst)\n",
    "checksum: int = 0\n",
    "for i in range(len(combined_lst)):\n",
    "    if combined_lst[i].isnumeric():\n",
    "        checksum += i * int(combined_lst[i])\n",
    "\n",
    "print(checksum)"
   ]
  }
 ],
 "metadata": {
  "kernelspec": {
   "display_name": "Python 3",
   "language": "python",
   "name": "python3"
  },
  "language_info": {
   "codemirror_mode": {
    "name": "ipython",
    "version": 3
   },
   "file_extension": ".py",
   "mimetype": "text/x-python",
   "name": "python",
   "nbconvert_exporter": "python",
   "pygments_lexer": "ipython3",
   "version": "3.9.6"
  }
 },
 "nbformat": 4,
 "nbformat_minor": 2
}
