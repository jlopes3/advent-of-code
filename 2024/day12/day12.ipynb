{
 "cells": [
  {
   "cell_type": "markdown",
   "metadata": {},
   "source": [
    "## Part 1"
   ]
  },
  {
   "cell_type": "code",
   "execution_count": 76,
   "metadata": {},
   "outputs": [
    {
     "name": "stdout",
     "output_type": "stream",
     "text": [
      "1573474\n"
     ]
    }
   ],
   "source": [
    "lines: list[str] = []\n",
    "with open(\"input_day12.txt\", \"r\") as file:\n",
    "    line: str = file.readline()\n",
    "    while line:\n",
    "        lines.append(line.strip())\n",
    "        line = file.readline()\n",
    "\n",
    "height: int = len(lines)\n",
    "width: int = len(lines[0])\n",
    "assigned_set: set[tuple[int, int]] = set()\n",
    "region_prices: list[int] = []\n",
    "for i in range(height):\n",
    "    for j in range(width):\n",
    "        if (i, j) in assigned_set:\n",
    "            pass\n",
    "        else:\n",
    "            curr_set: set[tuple[int, int]] = set()\n",
    "            letter: str = lines[i][j]\n",
    "            to_check: list[tuple[int, int]] = [(i, j)]\n",
    "            curr_perim: int = 0\n",
    "            while len(to_check) > 0:\n",
    "                ii, jj = to_check.pop(0) \n",
    "                if 0 <= ii < height and 0 <= jj < width:\n",
    "                    if lines[ii][jj] == letter and (ii, jj) not in curr_set:\n",
    "                        assigned_set.add((ii, jj))\n",
    "                        for di , dj in [(-1, 0), (1, 0), (0, 1), (0, -1)]:\n",
    "                            if (ii + di, jj + dj) in curr_set:\n",
    "                                curr_perim -= 1\n",
    "                            else:\n",
    "                                curr_perim += 1\n",
    "                        curr_set.add((ii, jj))\n",
    "                        if 0 <= ii + 1 < height and (ii + 1, jj) not in to_check and (ii + 1, jj) not in assigned_set:\n",
    "                            to_check.append((ii + 1, jj))\n",
    "                        if 0 <= jj + 1 < width and (ii, jj + 1) not in to_check and (ii, jj + 1) not in assigned_set:\n",
    "                            to_check.append((ii, jj + 1))\n",
    "                        if 0 <= ii - 1 < height and (ii - 1, jj) not in to_check and (ii - 1, jj) not in assigned_set:\n",
    "                            to_check.append((ii - 1, jj))\n",
    "                        if 0 <= jj - 1 < width and (ii, jj - 1) not in to_check and (ii, jj - 1) not in assigned_set:\n",
    "                            to_check.append((ii, jj - 1))\n",
    "            region_prices.append(curr_perim * len(curr_set))\n",
    "print(sum(region_prices))\n",
    "                    \n",
    "                \n",
    "                \n",
    "        \n",
    "        \n",
    "        "
   ]
  },
  {
   "cell_type": "markdown",
   "metadata": {},
   "source": [
    "## Part 2"
   ]
  },
  {
   "cell_type": "code",
   "execution_count": 138,
   "metadata": {},
   "outputs": [
    {
     "name": "stdout",
     "output_type": "stream",
     "text": [
      "966476\n"
     ]
    }
   ],
   "source": [
    "lines: list[str] = []\n",
    "with open(\"input_day12.txt\", \"r\") as file:\n",
    "    line: str = file.readline()\n",
    "    while line:\n",
    "        lines.append(line.strip())\n",
    "        line = file.readline()\n",
    "        \n",
    "total_set: set[tuple[int, int]] = set()\n",
    "for i in range(len(lines)):\n",
    "    for j in range(len(lines[0])):\n",
    "        total_set.add((i, j))\n",
    "\n",
    "height: int = len(lines)\n",
    "width: int = len(lines[0])\n",
    "assigned_set: set[tuple[int, int]] = set()\n",
    "region_prices: list[float] = []\n",
    "for i in range(height):\n",
    "    for j in range(width):\n",
    "        if (i, j) in assigned_set:\n",
    "            pass\n",
    "        else:\n",
    "            curr_set: set[tuple[int, int]] = set()\n",
    "            letter: str = lines[i][j]\n",
    "            to_check: list[tuple[int, int]] = [(i, j)]\n",
    "            possible_inner_corners: set[tuple[int, int]] = set()\n",
    "            while len(to_check) > 0:\n",
    "                possible_inner_corners = set(to_check) | possible_inner_corners\n",
    "                ii, jj = to_check.pop(0) \n",
    "                if 0 <= ii < height and 0 <= jj < width:\n",
    "                    if lines[ii][jj] == letter and (ii, jj) not in curr_set:\n",
    "                        assigned_set.add((ii, jj))\n",
    "                        curr_set.add((ii, jj))\n",
    "                        if 0 <= ii + 1 < height and (ii + 1, jj) not in to_check and (ii + 1, jj) not in assigned_set:\n",
    "                            to_check.append((ii + 1, jj))\n",
    "                        if 0 <= jj + 1 < width and (ii, jj + 1) not in to_check and (ii, jj + 1) not in assigned_set:\n",
    "                            to_check.append((ii, jj + 1))\n",
    "                        if 0 <= ii - 1 < height and (ii - 1, jj) not in to_check and (ii - 1, jj) not in assigned_set:\n",
    "                            to_check.append((ii - 1, jj))\n",
    "                        if 0 <= jj - 1 < width and (ii, jj - 1) not in to_check and (ii, jj - 1) not in assigned_set:\n",
    "                            to_check.append((ii, jj - 1))\n",
    "            corner_count: float = 0\n",
    "            for iii, jjj in curr_set:\n",
    "                for di1 , dj1, di2, dj2 in [(1, 0, 0, -1), (-1, 0, 0, -1), (-1, 0, 0, 1), (1, 0, 0, 1)]:\n",
    "                    if (iii + di1, jjj + dj1) not in curr_set and (iii + di2, jjj + dj2) not in curr_set:\n",
    "                        if (iii + di1 + di2, jjj + dj1 + dj2) in curr_set:\n",
    "                            pass\n",
    "                        else:\n",
    "                            corner_count += 1\n",
    "            possible_inner_corners = total_set - curr_set\n",
    "            possible_inner_corners = set([x for x in possible_inner_corners if lines[x[0]][x[1]] != letter])\n",
    "            for iii, jjj in possible_inner_corners:\n",
    "                for di1 , dj1, di2, dj2 in [(1, 0, 0, -1), (-1, 0, 0, -1), (-1, 0, 0, 1), (1, 0, 0, 1)]:\n",
    "                    if (iii + di1, jjj + dj1) in curr_set and (iii + di2, jjj + dj2) in curr_set:  \n",
    "                        corner_count += 1\n",
    "            region_prices.append(corner_count * len(curr_set))\n",
    "\n",
    "print(sum(region_prices))\n",
    "  \n",
    "        "
   ]
  }
 ],
 "metadata": {
  "kernelspec": {
   "display_name": "Python 3",
   "language": "python",
   "name": "python3"
  },
  "language_info": {
   "codemirror_mode": {
    "name": "ipython",
    "version": 3
   },
   "file_extension": ".py",
   "mimetype": "text/x-python",
   "name": "python",
   "nbconvert_exporter": "python",
   "pygments_lexer": "ipython3",
   "version": "3.9.6"
  }
 },
 "nbformat": 4,
 "nbformat_minor": 2
}
