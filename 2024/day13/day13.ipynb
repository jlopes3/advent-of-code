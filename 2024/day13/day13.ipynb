{
 "cells": [
  {
   "cell_type": "markdown",
   "metadata": {},
   "source": [
    "## Part 1"
   ]
  },
  {
   "cell_type": "code",
   "execution_count": 46,
   "metadata": {},
   "outputs": [
    {
     "name": "stdout",
     "output_type": "stream",
     "text": [
      "29438\n"
     ]
    }
   ],
   "source": [
    "import re \n",
    "import math\n",
    "\n",
    "lines: list[str] = []\n",
    "with open(\"input_day13.txt\", \"r\") as file:\n",
    "    line: str = file.readline()\n",
    "    while line:\n",
    "        lines.append(line.strip())\n",
    "        line = file.readline()\n",
    "\n",
    "lines = [x for x in lines if len(x) > 0]\n",
    "machines: list[tuple[int, int, int, int, int, int]] = []\n",
    "for i in range(len(lines)):\n",
    "    if i % 3 == 0:\n",
    "        split_up = re.findall(r'\\d+', lines[i])\n",
    "        a_x = int(split_up[0])\n",
    "        a_y = int(split_up[1])\n",
    "    if i % 3 == 1:\n",
    "        split_up = re.findall(r'\\d+', lines[i])\n",
    "        b_x = int(split_up[0])\n",
    "        b_y = int(split_up[1])\n",
    "    if i % 3 == 2:\n",
    "        split_up = re.findall(r'\\d+', lines[i])\n",
    "        p_x = int(split_up[0])\n",
    "        p_y = int(split_up[1])\n",
    "        machines.append((a_x, a_y, b_x, b_y, p_x, p_y))\n",
    "        \n",
    "        \n",
    "def solve_machine(machine: tuple[int, int, int, int, int, int]):\n",
    "    a_x, a_y, b_x, b_y, p_x, p_y = machine\n",
    "    first_button_presses: float = ((p_x * b_y) - (p_y * b_x)) / ((a_x * b_y) - (a_y * b_x))\n",
    "    second_button_presses: float = (p_x - (a_x * first_button_presses)) / b_x\n",
    "    return first_button_presses, second_button_presses\n",
    "\n",
    "total_cost: int = 0\n",
    "for machine in machines:\n",
    "    answer = solve_machine(machine)\n",
    "    if 100 >= answer[0] >= 0 and 100 >= answer[1] >= 0 and abs(answer[0] - math.floor(answer[0])) < 0.00000000000000001 and abs(answer[1] - math.floor(answer[1])) < 0.00000000000000001:\n",
    "        total_cost += int(answer[0]) * 3 + int(answer[1])\n",
    "    else:\n",
    "        pass\n",
    "                \n",
    "\n",
    "print(total_cost)"
   ]
  },
  {
   "cell_type": "markdown",
   "metadata": {},
   "source": [
    "## Part 2"
   ]
  },
  {
   "cell_type": "code",
   "execution_count": 47,
   "metadata": {},
   "outputs": [
    {
     "name": "stdout",
     "output_type": "stream",
     "text": [
      "104958599303720\n"
     ]
    }
   ],
   "source": [
    "import re \n",
    "import math\n",
    "\n",
    "lines: list[str] = []\n",
    "with open(\"input_day13.txt\", \"r\") as file:\n",
    "    line: str = file.readline()\n",
    "    while line:\n",
    "        lines.append(line.strip())\n",
    "        line = file.readline()\n",
    "\n",
    "lines = [x for x in lines if len(x) > 0]\n",
    "machines: list[tuple[int, int, int, int, int, int]] = []\n",
    "for i in range(len(lines)):\n",
    "    if i % 3 == 0:\n",
    "        split_up = re.findall(r'\\d+', lines[i])\n",
    "        a_x = int(split_up[0])\n",
    "        a_y = int(split_up[1])\n",
    "    if i % 3 == 1:\n",
    "        split_up = re.findall(r'\\d+', lines[i])\n",
    "        b_x = int(split_up[0])\n",
    "        b_y = int(split_up[1])\n",
    "    if i % 3 == 2:\n",
    "        split_up = re.findall(r'\\d+', lines[i])\n",
    "        p_x = int(split_up[0]) + 10000000000000\n",
    "        p_y = int(split_up[1]) + 10000000000000\n",
    "        machines.append((a_x, a_y, b_x, b_y, p_x, p_y))\n",
    "        \n",
    "        \n",
    "def solve_machine(machine: tuple[int, int, int, int, int, int]):\n",
    "    a_x, a_y, b_x, b_y, p_x, p_y = machine\n",
    "    first_button_presses: float = ((p_x * b_y) - (p_y * b_x)) / ((a_x * b_y) - (a_y * b_x))\n",
    "    second_button_presses: float = (p_x - (a_x * first_button_presses)) / b_x\n",
    "    return first_button_presses, second_button_presses\n",
    "\n",
    "total_cost: int = 0\n",
    "for machine in machines:\n",
    "    answer = solve_machine(machine)\n",
    "    if answer[0] >= 0 and answer[1] >= 0 and abs(answer[0] - math.floor(answer[0])) < 0.00000000000000001 and abs(answer[1] - math.floor(answer[1])) < 0.00000000000000001:\n",
    "        total_cost += int(answer[0]) * 3 + int(answer[1])\n",
    "    else:\n",
    "        pass\n",
    "                \n",
    "\n",
    "print(total_cost)"
   ]
  }
 ],
 "metadata": {
  "kernelspec": {
   "display_name": "Python 3",
   "language": "python",
   "name": "python3"
  },
  "language_info": {
   "codemirror_mode": {
    "name": "ipython",
    "version": 3
   },
   "file_extension": ".py",
   "mimetype": "text/x-python",
   "name": "python",
   "nbconvert_exporter": "python",
   "pygments_lexer": "ipython3",
   "version": "3.9.6"
  }
 },
 "nbformat": 4,
 "nbformat_minor": 2
}
