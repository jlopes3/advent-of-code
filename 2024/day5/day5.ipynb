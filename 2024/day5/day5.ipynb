{
 "cells": [
  {
   "cell_type": "markdown",
   "metadata": {},
   "source": [
    "## Part 1"
   ]
  },
  {
   "cell_type": "code",
   "execution_count": null,
   "metadata": {},
   "outputs": [
    {
     "name": "stdout",
     "output_type": "stream",
     "text": [
      "4662\n"
     ]
    }
   ],
   "source": [
    "rules: list[tuple[int, ...]] = []\n",
    "orders: list[list[int]] = []\n",
    "rules_done: bool = False\n",
    "with open(\"example.txt\", \"r\") as file:\n",
    "    line: str = file.readline()\n",
    "    while line:\n",
    "        if not rules_done:\n",
    "            to_add: str = line.strip()\n",
    "            if to_add == \"\":\n",
    "                rules_done = True\n",
    "            else:\n",
    "                rules.append(tuple(map(int, (line.strip()).split(\"|\"))))\n",
    "        else:\n",
    "            orders.append(list(map(int, (line.strip()).split(\",\"))))\n",
    "        line = file.readline()\n",
    "\n",
    "sum = 0\n",
    "for order in orders:\n",
    "    follows_rules: bool = True\n",
    "    for x, y in rules:\n",
    "        if x in order and y in order:\n",
    "            if y not in order[order.index(x):]:\n",
    "                follows_rules = False\n",
    "    if follows_rules:\n",
    "        sum += order[(len(order) // 2)]\n",
    "\n",
    "print(sum)"
   ]
  },
  {
   "cell_type": "markdown",
   "metadata": {},
   "source": [
    "## Part 2"
   ]
  },
  {
   "cell_type": "code",
   "execution_count": 129,
   "metadata": {},
   "outputs": [
    {
     "name": "stdout",
     "output_type": "stream",
     "text": [
      "5900\n"
     ]
    }
   ],
   "source": [
    "rules: list[tuple[int, ...]] = []\n",
    "orders: list[list[int]] = []\n",
    "rules_done: bool = False\n",
    "with open(\"input_day5.txt\", \"r\") as file:\n",
    "    line: str = file.readline()\n",
    "    while line:\n",
    "        if not rules_done:\n",
    "            to_add: str = line.strip()\n",
    "            if to_add == \"\":\n",
    "                rules_done = True\n",
    "            else:\n",
    "                rules.append(tuple(map(int, (line.strip()).split(\"|\"))))\n",
    "        else:\n",
    "            orders.append(list(map(int, (line.strip()).split(\",\"))))\n",
    "        line = file.readline()\n",
    "        \n",
    "rules_adj_list: dict[int, list[int]] = {}\n",
    "before, after = map(list, list(zip(*rules)))\n",
    "for x, y in rules:\n",
    "    if x in rules_adj_list.keys():\n",
    "        rules_adj_list[x] = rules_adj_list[x] + [y]\n",
    "    else:\n",
    "        rules_adj_list[x] = [y]\n",
    "        \n",
    "\n",
    "unorder: list[int] = [97,13,75,29,47]\n",
    "\n",
    "def reorder(order: list[int], rules_adj_list: dict[int, list[int]]):\n",
    "    unordered: list[int] = order\n",
    "    ordered: list[int] = []\n",
    "    for i in range(len(order)):\n",
    "        for el in unordered:\n",
    "            if all(((x not in rules_adj_list.keys())  or el not in rules_adj_list[x]) for x in unordered if x != el):\n",
    "                ordered += [el]\n",
    "                unordered.pop(unordered.index(el))\n",
    "                break\n",
    "\n",
    "    return ordered\n",
    "\n",
    "sum = 0\n",
    "for order in orders:\n",
    "    follows_rules: bool = True\n",
    "    for x, y in rules:\n",
    "        if x in order and y in order:\n",
    "            if y not in order[order.index(x):]:\n",
    "                follows_rules = False\n",
    "    if not follows_rules:\n",
    "        new_list: list[int] = reorder(order, rules_adj_list)\n",
    "        sum += new_list[(len(new_list) // 2)]\n",
    "\n",
    "print(sum)\n"
   ]
  }
 ],
 "metadata": {
  "kernelspec": {
   "display_name": "Python 3",
   "language": "python",
   "name": "python3"
  },
  "language_info": {
   "codemirror_mode": {
    "name": "ipython",
    "version": 3
   },
   "file_extension": ".py",
   "mimetype": "text/x-python",
   "name": "python",
   "nbconvert_exporter": "python",
   "pygments_lexer": "ipython3",
   "version": "3.9.6"
  }
 },
 "nbformat": 4,
 "nbformat_minor": 2
}
