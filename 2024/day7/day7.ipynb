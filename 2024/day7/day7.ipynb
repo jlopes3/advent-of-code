{
 "cells": [
  {
   "cell_type": "markdown",
   "metadata": {},
   "source": [
    "## Part 1"
   ]
  },
  {
   "cell_type": "code",
   "execution_count": null,
   "metadata": {},
   "outputs": [
    {
     "name": "stdout",
     "output_type": "stream",
     "text": [
      "932137732557\n"
     ]
    }
   ],
   "source": [
    "equations: list[list[int]] = []\n",
    "with open(\"input_day7.txt\", \"r\") as file:\n",
    "    line: str = file.readline()\n",
    "    while line:\n",
    "        to_add: list[str] = (line.strip()).split()\n",
    "        to_add[0] = (to_add[0])[:-1]\n",
    "        equations.append(list(map(int, to_add)))\n",
    "        line = file.readline()\n",
    "\n",
    "\n",
    "operators_combos_lists: list[list[list[str]]] = []\n",
    "for equation in equations:\n",
    "    num_operators: int = (len(equation) - 2)\n",
    "    operators_combos: int = 2 ** num_operators\n",
    "    operators_combos_list = []\n",
    "    for i in range(operators_combos):\n",
    "        str_rep: str = bin(i)[2:].zfill(num_operators).replace('0', '+').replace('1', '*')\n",
    "        operators_combos_list.append(list(str_rep))\n",
    "    operators_combos_lists.append(operators_combos_list)\n",
    "\n",
    "    \n",
    "def evaluate(operands: list[int], operator_combo: list[str]):\n",
    "    result: int = operands[0]\n",
    "    i: int = 1\n",
    "    while i < len(operands):\n",
    "        if operator_combo[i - 1] == \"*\":\n",
    "            result = result * operands[i]\n",
    "        elif operator_combo[i - 1] == \"+\":\n",
    "            result = result + operands[i]\n",
    "        i += 1\n",
    "    return result\n",
    "\n",
    "sum: int = 0\n",
    "for i in range(len(equations)):\n",
    "    target: int = equations[i][0]\n",
    "    operands: list[int] = equations[i][1:]\n",
    "    for operator_combo in operators_combos_lists[i]:\n",
    "        answer: int = evaluate(operands, operator_combo)\n",
    "        if answer == target:\n",
    "            sum += target\n",
    "            break\n",
    "\n",
    "print(sum) \n"
   ]
  },
  {
   "cell_type": "markdown",
   "metadata": {},
   "source": [
    "## Part 2"
   ]
  },
  {
   "cell_type": "code",
   "execution_count": 45,
   "metadata": {},
   "outputs": [
    {
     "name": "stdout",
     "output_type": "stream",
     "text": [
      "661823605105500\n"
     ]
    }
   ],
   "source": [
    "import numpy as np\n",
    "\n",
    "equations: list[list[int]] = []\n",
    "with open(\"input_day7.txt\", \"r\") as file:\n",
    "    line: str = file.readline()\n",
    "    while line:\n",
    "        to_add: list[str] = (line.strip()).split()\n",
    "        to_add[0] = (to_add[0])[:-1]\n",
    "        equations.append(list(map(int, to_add)))\n",
    "        line = file.readline()\n",
    "\n",
    "\n",
    "operators_combos_lists: list[list[list[str]]] = []\n",
    "for equation in equations:\n",
    "    num_operators: int = (len(equation) - 2)\n",
    "    operators_combos: int = 3 ** num_operators\n",
    "    operators_combos_list = []\n",
    "    for i in range(operators_combos):\n",
    "        str_rep: str = np.base_repr(i, base=3).zfill(num_operators).replace('0', '+').replace('1', '*').replace('2', '|')\n",
    "        operators_combos_list.append(list(str_rep))\n",
    "    operators_combos_lists.append(operators_combos_list)\n",
    "    \n",
    "\n",
    "def evaluate(operands: list[int], operator_combo: list[str]):\n",
    "    result: int = operands[0]\n",
    "    i: int = 1\n",
    "    while i < len(operands):\n",
    "        if operator_combo[i - 1] == \"*\":\n",
    "            result = result * operands[i]\n",
    "        elif operator_combo[i - 1] == \"+\":\n",
    "            result = result + operands[i]\n",
    "        elif operator_combo[i - 1] == \"|\":\n",
    "            str_rep = str(operands[i])\n",
    "            result = (result * (10 ** len(str_rep))) + operands[i]\n",
    "        i += 1\n",
    "    return result\n",
    "\n",
    "\n",
    "sum: int = 0\n",
    "for i in range(len(equations)):\n",
    "    target: int = equations[i][0]\n",
    "    operands: list[int] = equations[i][1:]\n",
    "    for operator_combo in operators_combos_lists[i]:\n",
    "        answer: int = evaluate(operands, operator_combo)\n",
    "        if answer == target:\n",
    "            sum += target\n",
    "            break\n",
    "\n",
    "print(sum) "
   ]
  }
 ],
 "metadata": {
  "kernelspec": {
   "display_name": "Python 3",
   "language": "python",
   "name": "python3"
  },
  "language_info": {
   "codemirror_mode": {
    "name": "ipython",
    "version": 3
   },
   "file_extension": ".py",
   "mimetype": "text/x-python",
   "name": "python",
   "nbconvert_exporter": "python",
   "pygments_lexer": "ipython3",
   "version": "3.9.6"
  }
 },
 "nbformat": 4,
 "nbformat_minor": 2
}
