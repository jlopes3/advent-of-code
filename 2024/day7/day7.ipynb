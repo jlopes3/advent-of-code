{
 "cells": [
  {
   "cell_type": "markdown",
   "metadata": {},
   "source": [
    "## Part 1"
   ]
  },
  {
   "cell_type": "code",
   "execution_count": 16,
   "metadata": {},
   "outputs": [
    {
     "name": "stdout",
     "output_type": "stream",
     "text": [
      "932137732557\n"
     ]
    }
   ],
   "source": [
    "equations: list[list[int]] = []\n",
    "with open(\"input_day7.txt\", \"r\") as file:\n",
    "    line: str = file.readline()\n",
    "    while line:\n",
    "        to_add: list[str] = (line.strip()).split()\n",
    "        to_add[0] = (to_add[0])[:-1]\n",
    "        equations.append(list(map(int, to_add)))\n",
    "        line = file.readline()\n",
    "\n",
    "def check_possible(target: int, operands: list[int]):\n",
    "    if len(operands) == 1:\n",
    "        return operands[0] == target\n",
    "    if target % operands[-1] == 0 and check_possible(target // operands[-1], operands[:-1]):\n",
    "        return True\n",
    "    if target > operands[-1] and check_possible(target - operands[-1], operands[:-1]):\n",
    "        return True\n",
    "    return False\n",
    "sum: int = 0\n",
    "for equation in equations:\n",
    "    if check_possible(equation[0], equation[1:]):\n",
    "        sum += equation[0]\n",
    "\n",
    "print(sum)\n"
   ]
  },
  {
   "cell_type": "markdown",
   "metadata": {},
   "source": [
    "## Part 2"
   ]
  },
  {
   "cell_type": "code",
   "execution_count": 20,
   "metadata": {},
   "outputs": [
    {
     "name": "stdout",
     "output_type": "stream",
     "text": [
      "661823605105500\n"
     ]
    }
   ],
   "source": [
    "equations: list[list[int]] = []\n",
    "with open(\"input_day7.txt\", \"r\") as file:\n",
    "    line: str = file.readline()\n",
    "    while line:\n",
    "        to_add: list[str] = (line.strip()).split()\n",
    "        to_add[0] = (to_add[0])[:-1]\n",
    "        equations.append(list(map(int, to_add)))\n",
    "        line = file.readline()\n",
    "\n",
    "def check_possible(target: int, operands: list[int]):\n",
    "    if len(operands) == 1:\n",
    "        return operands[0] == target\n",
    "    if target % operands[-1] == 0 and check_possible(target // operands[-1], operands[:-1]):\n",
    "        return True\n",
    "    if target > operands[-1] and check_possible(target - operands[-1], operands[:-1]):\n",
    "        return True\n",
    "    s_target = str(target)\n",
    "    s_last = str(operands[-1])\n",
    "    if len(s_target) > len(s_last) and s_target.endswith(s_last) and check_possible(int(s_target[:-len(s_last)]), operands[:-1]):\n",
    "        return True\n",
    "    return False\n",
    "\n",
    "sum: int = 0\n",
    "for equation in equations:\n",
    "    if check_possible(equation[0], equation[1:]):\n",
    "        sum += equation[0]\n",
    "\n",
    "print(sum)\n"
   ]
  }
 ],
 "metadata": {
  "kernelspec": {
   "display_name": "Python 3",
   "language": "python",
   "name": "python3"
  },
  "language_info": {
   "codemirror_mode": {
    "name": "ipython",
    "version": 3
   },
   "file_extension": ".py",
   "mimetype": "text/x-python",
   "name": "python",
   "nbconvert_exporter": "python",
   "pygments_lexer": "ipython3",
   "version": "3.9.6"
  }
 },
 "nbformat": 4,
 "nbformat_minor": 2
}
