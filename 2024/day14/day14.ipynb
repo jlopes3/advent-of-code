{
 "cells": [
  {
   "cell_type": "markdown",
   "metadata": {},
   "source": [
    "## Part 1"
   ]
  },
  {
   "cell_type": "code",
   "execution_count": 88,
   "metadata": {},
   "outputs": [
    {
     "name": "stdout",
     "output_type": "stream",
     "text": [
      "219512160\n"
     ]
    }
   ],
   "source": [
    "import re \n",
    "\n",
    "# location tuple as key, list of velocities as values\n",
    "board: dict[tuple[int, int], list[tuple[int, int]]] = {}\n",
    "with open(\"input_day14.txt\", \"r\") as file:\n",
    "    line: str = file.readline()\n",
    "    while line:\n",
    "        split_up = re.findall(r\"-?\\b\\d+\\b\", line)\n",
    "        split_up = list(map(int, split_up))\n",
    "        if (split_up[0], split_up[1]) not in board:\n",
    "            board[(split_up[0], split_up[1])] = [(split_up[2], split_up[3])]\n",
    "        else:\n",
    "            board[(split_up[0], split_up[1])] += [(split_up[2], split_up[3])]\n",
    "        line = file.readline()\n",
    "\n",
    "HEIGHT: int = 103\n",
    "WIDTH: int = 101\n",
    "\n",
    "def move_one_robot(position: tuple[int, int], velocity: tuple[int, int], height: int, width: int):\n",
    "    pi, pj = position\n",
    "    vi, vj = velocity\n",
    "    return (((pi + vi) % (width)), ((pj + vj) % (height)))\n",
    "\n",
    "new_board = {}\n",
    "for pos, velos in board.items():\n",
    "    for vel in velos:\n",
    "        new_pos = pos\n",
    "        for _ in range(100):\n",
    "            new_pos = move_one_robot(new_pos, vel, HEIGHT, WIDTH)\n",
    "        if new_pos not in new_board:\n",
    "            new_board[new_pos] = [vel]\n",
    "        else:\n",
    "            new_board[new_pos] += [vel]\n",
    "\n",
    "board = new_board\n",
    "\n",
    "top_left: int = 0\n",
    "top_right: int = 0\n",
    "bottom_left: int = 0\n",
    "bottom_right: int = 0\n",
    "for x, y in board.keys():\n",
    "    if x == (WIDTH // 2) or y == (HEIGHT // 2):\n",
    "        continue\n",
    "    if x < (WIDTH // 2) and y < (HEIGHT // 2):\n",
    "        top_left += len(board[(x, y)])\n",
    "    elif x < (WIDTH // 2) and y > (HEIGHT // 2):\n",
    "        bottom_left += len(board[(x, y)])\n",
    "    elif x > (WIDTH // 2) and y < (HEIGHT // 2):\n",
    "        top_right += len(board[(x, y)])\n",
    "    elif x > (WIDTH // 2) and y > (HEIGHT // 2):\n",
    "        bottom_right += len(board[(x, y)])\n",
    "\n",
    "print(top_left * bottom_left * top_right * bottom_right)"
   ]
  },
  {
   "cell_type": "markdown",
   "metadata": {},
   "source": [
    "## Part 2"
   ]
  },
  {
   "cell_type": "code",
   "execution_count": 87,
   "metadata": {},
   "outputs": [
    {
     "name": "stdout",
     "output_type": "stream",
     "text": [
      "6398\n"
     ]
    }
   ],
   "source": [
    "import re \n",
    "\n",
    "# location tuple as key, list of velocities as values\n",
    "board: dict[tuple[int, int], list[tuple[int, int]]] = {}\n",
    "with open(\"input_day14.txt\", \"r\") as file:\n",
    "    line: str = file.readline()\n",
    "    while line:\n",
    "        split_up = re.findall(r\"-?\\b\\d+\\b\", line)\n",
    "        split_up = list(map(int, split_up))\n",
    "        if (split_up[0], split_up[1]) not in board:\n",
    "            board[(split_up[0], split_up[1])] = [(split_up[2], split_up[3])]\n",
    "        else:\n",
    "            board[(split_up[0], split_up[1])] += [(split_up[2], split_up[3])]\n",
    "        line = file.readline()\n",
    "\n",
    "HEIGHT: int = 103\n",
    "WIDTH: int = 101\n",
    "\n",
    "def move_one_robot(position: tuple[int, int], velocity: tuple[int, int], height: int, width: int):\n",
    "    pi, pj = position\n",
    "    vi, vj = velocity\n",
    "    return (((pi + vi) % (width)), ((pj + vj) % (height)))\n",
    "\n",
    "overlaps = [float(0)] * (WIDTH * HEIGHT + 1)\n",
    "overlaps[0] = float(\"inf\")\n",
    "for i in range(WIDTH * HEIGHT):\n",
    "    new_board = {}\n",
    "    for pos, velos in board.items():\n",
    "        for vel in velos:\n",
    "            new_pos = pos\n",
    "            for _ in range(1):\n",
    "                new_pos = move_one_robot(new_pos, vel, HEIGHT, WIDTH)\n",
    "            if new_pos not in new_board:\n",
    "                new_board[new_pos] = [vel]\n",
    "            else:\n",
    "                overlaps[i + 1] += 1\n",
    "                new_board[new_pos] += [vel]\n",
    "\n",
    "    board = new_board\n",
    "\n",
    "\n",
    "min_val = min(overlaps)\n",
    "print(overlaps.index(min_val))\n"
   ]
  }
 ],
 "metadata": {
  "kernelspec": {
   "display_name": "Python 3",
   "language": "python",
   "name": "python3"
  },
  "language_info": {
   "codemirror_mode": {
    "name": "ipython",
    "version": 3
   },
   "file_extension": ".py",
   "mimetype": "text/x-python",
   "name": "python",
   "nbconvert_exporter": "python",
   "pygments_lexer": "ipython3",
   "version": "3.9.6"
  }
 },
 "nbformat": 4,
 "nbformat_minor": 2
}
