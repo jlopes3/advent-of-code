{
 "cells": [
  {
   "cell_type": "markdown",
   "metadata": {},
   "source": [
    "## Part 1"
   ]
  },
  {
   "cell_type": "code",
   "execution_count": 1,
   "metadata": {},
   "outputs": [
    {
     "name": "stdout",
     "output_type": "stream",
     "text": [
      "[872027, 227, 18, 9760, 0, 4, 67716, 9245696]\n",
      "199946\n"
     ]
    }
   ],
   "source": [
    "from functools import reduce\n",
    "\n",
    "with open(\"input_day11.txt\", \"r\") as file:\n",
    "    stones: list[int] = list(map(int, file.readline().split()))\n",
    "print(stones)\n",
    "\n",
    "def rule_1(stone: int) -> list[int]:\n",
    "    return [1]\n",
    "\n",
    "def rule_2(stone: int) -> list[int]:\n",
    "    stone_str = str(stone)\n",
    "    str_len: int = len(stone_str)\n",
    "    left_str: str = stone_str[0: str_len // 2]\n",
    "    right_str: str = stone_str[(str_len // 2):]\n",
    "    return [int(left_str), int(right_str)]\n",
    "\n",
    "def rule_3(stone: int) -> list[int]:\n",
    "    return [stone * 2024]\n",
    "\n",
    "def choose_rule(stone: int) -> list[int]:\n",
    "    if stone == 0:\n",
    "        return rule_1(stone)\n",
    "    if len(str(stone)) % 2 == 0:\n",
    "        return rule_2(stone)\n",
    "    return rule_3 (stone)\n",
    "\n",
    "def blink(stones: list[int]) -> list[int]:\n",
    "    return reduce(lambda x, y: x + y, list(map(choose_rule, stones)))\n",
    "\n",
    "for i in range(25):\n",
    "    stones = blink(stones)\n",
    "\n",
    "print(len(stones))"
   ]
  },
  {
   "cell_type": "code",
   "execution_count": 4,
   "metadata": {},
   "outputs": [
    {
     "name": "stdout",
     "output_type": "stream",
     "text": [
      "[872027, 227, 18, 9760, 0, 4, 67716, 9245696]\n",
      "199946\n"
     ]
    }
   ],
   "source": [
    "from functools import reduce\n",
    "\n",
    "with open(\"input_day11.txt\", \"r\") as file:\n",
    "    stones: list[int] = list(map(int, file.readline().split()))\n",
    "print(stones)\n",
    "\n",
    "def rule_1(stone: int) -> list[int]:\n",
    "    return [1]\n",
    "\n",
    "def rule_2(stone: int) -> list[int]:\n",
    "    stone_str = str(stone)\n",
    "    str_len: int = len(stone_str)\n",
    "    left_str: str = stone_str[0: str_len // 2]\n",
    "    right_str: str = stone_str[(str_len // 2):]\n",
    "    return [int(left_str), int(right_str)]\n",
    "\n",
    "def rule_3(stone: int) -> list[int]:\n",
    "    return [stone * 2024]\n",
    "\n",
    "def choose_rule(stone: int) -> list[int]:\n",
    "    if stone == 0:\n",
    "        return rule_1(stone)\n",
    "    if len(str(stone)) % 2 == 0:\n",
    "        return rule_2(stone)\n",
    "    return rule_3 (stone)\n",
    "\n",
    "def blink(stones: list[int]) -> list[int]:\n",
    "    return reduce(lambda x, y: x + y, list(map(choose_rule, stones)))\n",
    "\n",
    "for i in range(25):\n",
    "    stones = blink(stones)\n",
    "\n",
    "print(len(stones))"
   ]
  },
  {
   "cell_type": "markdown",
   "metadata": {},
   "source": [
    "## Part 2"
   ]
  },
  {
   "cell_type": "code",
   "execution_count": 9,
   "metadata": {},
   "outputs": [
    {
     "name": "stdout",
     "output_type": "stream",
     "text": [
      "{872027: 1, 227: 1, 18: 1, 9760: 1, 0: 1, 4: 1, 67716: 1, 9245696: 1}\n",
      "237994815702032\n"
     ]
    }
   ],
   "source": [
    "from functools import reduce\n",
    "\n",
    "with open(\"input_day11.txt\", \"r\") as file:\n",
    "    stones: list[int] = list(map(int, file.readline().split()))\n",
    "\n",
    "stones_dict: dict[int, int] = {}\n",
    "for stone in stones:\n",
    "    if stone in stones_dict: stones_dict[stone] += 1\n",
    "    else: stones_dict[stone] = 1\n",
    "\n",
    "print(stones_dict)\n",
    "\n",
    "def rule_1(stone: int) -> list[int]:\n",
    "    return [1]\n",
    "\n",
    "def rule_2(stone: int) -> list[int]:\n",
    "    stone_str = str(stone)\n",
    "    str_len: int = len(stone_str)\n",
    "    left_str: str = stone_str[0: str_len // 2]\n",
    "    right_str: str = stone_str[(str_len // 2):]\n",
    "    return [int(left_str), int(right_str)]\n",
    "\n",
    "def rule_3(stone: int) -> list[int]:\n",
    "    return [stone * 2024]\n",
    "\n",
    "def choose_rule(stone: int) -> list[int]:\n",
    "    if stone == 0:\n",
    "        return rule_1(stone)\n",
    "    if len(str(stone)) % 2 == 0:\n",
    "        return rule_2(stone)\n",
    "    return rule_3 (stone)\n",
    "\n",
    "def blink(stones: dict[int, int]) -> dict[int, int]:\n",
    "    new_stones: dict[int, int] = {} \n",
    "    for key, value in stones.items():\n",
    "        new_list = choose_rule(key)\n",
    "        for el in new_list:\n",
    "            if el in new_stones: new_stones[el] += 1 * value\n",
    "            else: new_stones[el] = value \n",
    "    return new_stones\n",
    "\n",
    "\n",
    "for i in range(75):\n",
    "    stones_dict = blink(stones_dict)\n",
    "\n",
    "print(sum(list(stones_dict.values())))\n",
    "\n"
   ]
  }
 ],
 "metadata": {
  "kernelspec": {
   "display_name": "Python 3",
   "language": "python",
   "name": "python3"
  },
  "language_info": {
   "codemirror_mode": {
    "name": "ipython",
    "version": 3
   },
   "file_extension": ".py",
   "mimetype": "text/x-python",
   "name": "python",
   "nbconvert_exporter": "python",
   "pygments_lexer": "ipython3",
   "version": "3.9.6"
  }
 },
 "nbformat": 4,
 "nbformat_minor": 2
}
