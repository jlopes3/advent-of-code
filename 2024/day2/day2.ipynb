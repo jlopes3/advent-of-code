{
 "cells": [
  {
   "cell_type": "markdown",
   "metadata": {},
   "source": [
    "## Part 1"
   ]
  },
  {
   "cell_type": "code",
   "execution_count": 3,
   "metadata": {},
   "outputs": [
    {
     "name": "stdout",
     "output_type": "stream",
     "text": [
      "390\n"
     ]
    }
   ],
   "source": [
    "reports: list[list[int]] = []\n",
    "with open(\"input_day2.txt\", \"r\") as file:\n",
    "    line: str = file.readline()\n",
    "    while line:\n",
    "        reports.append(list(map(int, line.split())))\n",
    "        line = file.readline()\n",
    "\n",
    "def report_safe(report: list[int]) -> bool:\n",
    "    if len(report) <= 1:\n",
    "        return True\n",
    "    \n",
    "    if report[0] < report[1]:\n",
    "        for i in range(1, len(report)):\n",
    "            if (report[i] <= report[i - 1]):\n",
    "                return False\n",
    "            if (report[i] - report[i - 1] > 3):\n",
    "                return False\n",
    "    elif report[0] > report[1]:\n",
    "        for i in range(1, len(report)):\n",
    "            if (report[i] >= report[i - 1]):\n",
    "                return False\n",
    "            if (report[i - 1] - report[i] > 3):\n",
    "                return False\n",
    "    else:\n",
    "        return False\n",
    "    \n",
    "    return True\n",
    "\n",
    "x = list(map(report_safe, reports))\n",
    "print(x.count(True))\n",
    "    \n"
   ]
  },
  {
   "cell_type": "markdown",
   "metadata": {},
   "source": [
    "## Part 2"
   ]
  },
  {
   "cell_type": "code",
   "execution_count": 14,
   "metadata": {},
   "outputs": [
    {
     "name": "stdout",
     "output_type": "stream",
     "text": [
      "439\n"
     ]
    }
   ],
   "source": [
    "def report_safe_dampener(report: list[int]) -> bool:\n",
    "    if report_safe(report) == True:\n",
    "        return True\n",
    "    \n",
    "    if report_safe(report[1:]) == True:\n",
    "        return True\n",
    "    \n",
    "    for i in range(1, len(report) + 1):\n",
    "        new_report: list[int] = report[:i - 1] + report[i:]\n",
    "        if report_safe(new_report):\n",
    "            return True\n",
    "    \n",
    "    return False\n",
    "\n",
    "\n",
    "x = list(map(report_safe_dampener, reports))\n",
    "print(x.count(True))"
   ]
  }
 ],
 "metadata": {
  "kernelspec": {
   "display_name": "Python 3",
   "language": "python",
   "name": "python3"
  },
  "language_info": {
   "codemirror_mode": {
    "name": "ipython",
    "version": 3
   },
   "file_extension": ".py",
   "mimetype": "text/x-python",
   "name": "python",
   "nbconvert_exporter": "python",
   "pygments_lexer": "ipython3",
   "version": "3.9.6"
  }
 },
 "nbformat": 4,
 "nbformat_minor": 2
}
