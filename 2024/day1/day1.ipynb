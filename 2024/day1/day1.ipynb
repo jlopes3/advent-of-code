{
 "cells": [
  {
   "cell_type": "markdown",
   "metadata": {},
   "source": [
    "## Part 1"
   ]
  },
  {
   "cell_type": "code",
   "execution_count": 11,
   "metadata": {},
   "outputs": [
    {
     "name": "stdout",
     "output_type": "stream",
     "text": [
      "2086478\n"
     ]
    }
   ],
   "source": [
    "left_list = []\n",
    "right_list = []\n",
    "\n",
    "with open(\"input_day1.txt\", \"r\") as file:\n",
    "    line = file.readline()\n",
    "    while line:\n",
    "        num1, num2 = map(int, line.split())\n",
    "        left_list.append(num1)\n",
    "        right_list.append(num2)\n",
    "        line = file.readline()\n",
    "\n",
    "\n",
    "left_list.sort()\n",
    "right_list.sort()\n",
    "\n",
    "sum = 0\n",
    "for i in range(len(left_list)):\n",
    "    sum += abs(left_list[i] - right_list[i])\n",
    "\n",
    "print(sum)\n",
    "\n"
   ]
  },
  {
   "cell_type": "markdown",
   "metadata": {},
   "source": [
    "## Part 2"
   ]
  },
  {
   "cell_type": "code",
   "execution_count": 12,
   "metadata": {},
   "outputs": [
    {
     "name": "stdout",
     "output_type": "stream",
     "text": [
      "24941624\n"
     ]
    }
   ],
   "source": [
    "left_set = set(left_list)\n",
    "left_counter = {}\n",
    "for el in left_set:\n",
    "    left_counter[el] = left_list.count(el)\n",
    "\n",
    "\n",
    "sum = 0\n",
    "for el in right_list:\n",
    "    if el in left_set:\n",
    "        sum +=  left_counter[el] * el\n",
    "\n",
    "print(sum)"
   ]
  }
 ],
 "metadata": {
  "kernelspec": {
   "display_name": "Python 3",
   "language": "python",
   "name": "python3"
  },
  "language_info": {
   "codemirror_mode": {
    "name": "ipython",
    "version": 3
   },
   "file_extension": ".py",
   "mimetype": "text/x-python",
   "name": "python",
   "nbconvert_exporter": "python",
   "pygments_lexer": "ipython3",
   "version": "3.9.6"
  }
 },
 "nbformat": 4,
 "nbformat_minor": 2
}
